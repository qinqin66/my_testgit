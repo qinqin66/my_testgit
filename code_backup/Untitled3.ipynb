{
 "cells": [
  {
   "cell_type": "code",
   "execution_count": 15,
   "metadata": {},
   "outputs": [],
   "source": [
    "import rasterio as rio\n",
    "import rasterio"
   ]
  },
  {
   "cell_type": "code",
   "execution_count": 1,
   "metadata": {},
   "outputs": [],
   "source": [
    "import os\n",
    "import matplotlib.pyplot as plt\n",
    "import seaborn as sns\n",
    "import numpy as np\n",
    "from shapely.geometry import mapping\n",
    "import rioxarray as rxr\n",
    "import xarray as xr\n",
    "import geopandas as gpd"
   ]
  },
  {
   "cell_type": "code",
   "execution_count": 4,
   "metadata": {},
   "outputs": [
    {
     "data": {
      "text/plain": [
       "<open DatasetReader name='/mnt/f/random/new.tif' mode='r'>"
      ]
     },
     "execution_count": 4,
     "metadata": {},
     "output_type": "execute_result"
    }
   ],
   "source": [
    "new=rio.open('/mnt/f/random/new.tif')\n",
    "new"
   ]
  },
  {
   "cell_type": "code",
   "execution_count": 16,
   "metadata": {},
   "outputs": [
    {
     "name": "stdout",
     "output_type": "stream",
     "text": [
      "该栅格数据的基本数据集信息（这些信息都是以数据集属性的形式表示的）：\n",
      "数据格式：GTiff\n",
      "波段数目：1\n",
      "影像宽度：5767\n",
      "影像高度：3630\n",
      "地理范围：BoundingBox(left=-2355600.0, bottom=268400.0, right=2258000.0, top=3172400.0)\n",
      "反射变换参数（六参数模型）：\n",
      " | 800.00, 0.00,-2355600.00|\n",
      "| 0.00,-800.00, 3172400.00|\n",
      "| 0.00, 0.00, 1.00|\n",
      "投影定义：PROJCS[\"unnamed\",GEOGCS[\"unnamed ellipse\",DATUM[\"unknown\",SPHEROID[\"unnamed\",6378137,298.257222101],TOWGS84[0,0,0,0,0,0,0]],PRIMEM[\"Greenwich\",0],UNIT[\"degree\",0.0174532925199433,AUTHORITY[\"EPSG\",\"9122\"]]],PROJECTION[\"Albers_Conic_Equal_Area\"],PARAMETER[\"latitude_of_center\",23],PARAMETER[\"longitude_of_center\",-96],PARAMETER[\"standard_parallel_1\",29.5],PARAMETER[\"standard_parallel_2\",45.5],PARAMETER[\"false_easting\",0],PARAMETER[\"false_northing\",0],UNIT[\"metre\",1,AUTHORITY[\"EPSG\",\"9001\"]],AXIS[\"Easting\",EAST],AXIS[\"Northing\",NORTH]]\n",
      "第一波段的最大值：8\n",
      "第一波段的最小值：0\n",
      "第一波段的平均值：3.7707137742479895\n",
      "(投影坐标-2355300.0, 3172100.0)对应的行列号是(0, 0)\n",
      "行列号(0, 0)对应的中心投影坐标是(-2355200.0, 3172000.0)\n",
      "行列号(0, 0)对应的左上角投影坐标是(-2355600.0, 3172400.0)\n"
     ]
    },
    {
     "name": "stderr",
     "output_type": "stream",
     "text": [
      "<ipython-input-16-ca60ba4e5158>:24: DeprecationWarning: Right multiplication will be prohibited in version 3.0\n",
      "  x, y = (row, col) * ds.transform\n"
     ]
    }
   ],
   "source": [
    "with rasterio.open('/mnt/f/random/new.tif') as ds:\n",
    "    print('该栅格数据的基本数据集信息（这些信息都是以数据集属性的形式表示的）：')\n",
    "    print(f'数据格式：{ds.driver}')\n",
    "    print(f'波段数目：{ds.count}')\n",
    "    print(f'影像宽度：{ds.width}')\n",
    "    print(f'影像高度：{ds.height}')\n",
    "    print(f'地理范围：{ds.bounds}')\n",
    "    print(f'反射变换参数（六参数模型）：\\n {ds.transform}')\n",
    "    print(f'投影定义：{ds.crs}')\n",
    "    # 获取第一个波段数据，跟GDAL一样索引从1开始\n",
    "    # 直接获得numpy.ndarray类型的二维数组表示，如果read()函数不加参数，则得到所有波段（第一个维度是波段）\n",
    "    band1 = ds.read(1)\n",
    "    print(f'第一波段的最大值：{band1.max()}')\n",
    "    print(f'第一波段的最小值：{band1.min()}')\n",
    "    print(f'第一波段的平均值：{band1.mean()}')\n",
    "    # 根据地理坐标得到行列号\n",
    "    x, y = (ds.bounds.left + 300, ds.bounds.top - 300)  # 距离左上角东300米，南300米的投影坐标\n",
    "    row, col = ds.index(x, y)  # 对应的行列号\n",
    "    print(f'(投影坐标{x}, {y})对应的行列号是({row}, {col})')\n",
    "    # 根据行列号得到地理坐标\n",
    "    x, y = ds.xy(row, col)  # 中心点的坐标\n",
    "    print(f'行列号({row}, {col})对应的中心投影坐标是({x}, {y})')\n",
    "    # 那么如何得到对应点左上角的信息\n",
    "    x, y = (row, col) * ds.transform\n",
    "    print(f'行列号({row}, {col})对应的左上角投影坐标是({x}, {y})')"
   ]
  },
  {
   "cell_type": "code",
   "execution_count": 25,
   "metadata": {},
   "outputs": [
    {
     "ename": "AttributeError",
     "evalue": "'numpy.ndarray' object has no attribute 'drop'",
     "output_type": "error",
     "traceback": [
      "\u001b[0;31m---------------------------------------------------------------------------\u001b[0m",
      "\u001b[0;31mAttributeError\u001b[0m                            Traceback (most recent call last)",
      "\u001b[0;32m<ipython-input-25-e4ccbc217709>\u001b[0m in \u001b[0;36m<module>\u001b[0;34m\u001b[0m\n\u001b[1;32m      1\u001b[0m \u001b[0mband1\u001b[0m \u001b[0;34m=\u001b[0m \u001b[0mnew\u001b[0m\u001b[0;34m.\u001b[0m\u001b[0mread\u001b[0m\u001b[0;34m(\u001b[0m\u001b[0;36m1\u001b[0m\u001b[0;34m)\u001b[0m\u001b[0;34m\u001b[0m\u001b[0;34m\u001b[0m\u001b[0m\n\u001b[0;32m----> 2\u001b[0;31m \u001b[0mband1\u001b[0m\u001b[0;34m.\u001b[0m\u001b[0mdrop\u001b[0m\u001b[0;34m(\u001b[0m\u001b[0;36m0\u001b[0m\u001b[0;34m)\u001b[0m\u001b[0;34m\u001b[0m\u001b[0;34m\u001b[0m\u001b[0m\n\u001b[0m",
      "\u001b[0;31mAttributeError\u001b[0m: 'numpy.ndarray' object has no attribute 'drop'"
     ]
    }
   ],
   "source": [
    "band1 = new.read(1)\n",
    "band1."
   ]
  },
  {
   "cell_type": "code",
   "execution_count": 20,
   "metadata": {},
   "outputs": [],
   "source": [
    "\n",
    "from scipy import stats\n"
   ]
  },
  {
   "cell_type": "code",
   "execution_count": 26,
   "metadata": {},
   "outputs": [
    {
     "data": {
      "text/plain": [
       "(array([[3.625e+03, 0.000e+00, 1.000e+00, ..., 0.000e+00, 0.000e+00,\n",
       "         4.000e+00],\n",
       "        [3.622e+03, 0.000e+00, 2.000e+00, ..., 0.000e+00, 0.000e+00,\n",
       "         6.000e+00],\n",
       "        [3.613e+03, 0.000e+00, 0.000e+00, ..., 0.000e+00, 1.000e+00,\n",
       "         1.200e+01],\n",
       "        ...,\n",
       "        [3.629e+03, 0.000e+00, 0.000e+00, ..., 0.000e+00, 0.000e+00,\n",
       "         0.000e+00],\n",
       "        [3.628e+03, 0.000e+00, 0.000e+00, ..., 0.000e+00, 0.000e+00,\n",
       "         1.000e+00],\n",
       "        [3.628e+03, 0.000e+00, 0.000e+00, ..., 0.000e+00, 0.000e+00,\n",
       "         2.000e+00]]),\n",
       " array([0. , 0.8, 1.6, 2.4, 3.2, 4. , 4.8, 5.6, 6.4, 7.2, 8. ]),\n",
       " <a list of 5767 BarContainer objects>)"
      ]
     },
     "execution_count": 26,
     "metadata": {},
     "output_type": "execute_result"
    },
    {
     "data": {
      "image/png": "[encoded data removed]",
      "text/plain": [
       "<Figure size 432x288 with 1 Axes>"
      ]
     },
     "metadata": {
      "needs_background": "light"
     },
     "output_type": "display_data"
    }
   ],
   "source": [
    "plt.hist(band1)"
   ]
  },
  {
   "cell_type": "code",
   "execution_count": 24,
   "metadata": {},
   "outputs": [
    {
     "data": {
      "text/plain": [
       "ModeResult(mode=array([[0]], dtype=uint8), count=array([[8808369]]))"
      ]
     },
     "execution_count": 24,
     "metadata": {},
     "output_type": "execute_result"
    }
   ],
   "source": [
    "stats.mode(band1.reshape(5767*3630,1))"
   ]
  },
  {
   "cell_type": "code",
   "execution_count": 18,
   "metadata": {},
   "outputs": [
    {
     "ename": "ValueError",
     "evalue": "object too deep for desired array",
     "output_type": "error",
     "traceback": [
      "\u001b[0;31m---------------------------------------------------------------------------\u001b[0m",
      "\u001b[0;31mValueError\u001b[0m                                Traceback (most recent call last)",
      "\u001b[0;32m<ipython-input-18-6bb461f3c995>\u001b[0m in \u001b[0;36m<module>\u001b[0;34m\u001b[0m\n\u001b[0;32m----> 1\u001b[0;31m \u001b[0mcounts\u001b[0m \u001b[0;34m=\u001b[0m \u001b[0mnp\u001b[0m\u001b[0;34m.\u001b[0m\u001b[0mbincount\u001b[0m\u001b[0;34m(\u001b[0m\u001b[0mband1\u001b[0m\u001b[0;34m)\u001b[0m\u001b[0;34m\u001b[0m\u001b[0;34m\u001b[0m\u001b[0m\n\u001b[0m\u001b[1;32m      2\u001b[0m \u001b[0;31m#返回众数\u001b[0m\u001b[0;34m\u001b[0m\u001b[0;34m\u001b[0m\u001b[0;34m\u001b[0m\u001b[0m\n\u001b[1;32m      3\u001b[0m \u001b[0mnp\u001b[0m\u001b[0;34m.\u001b[0m\u001b[0margmax\u001b[0m\u001b[0;34m(\u001b[0m\u001b[0mcounts\u001b[0m\u001b[0;34m)\u001b[0m\u001b[0;34m\u001b[0m\u001b[0;34m\u001b[0m\u001b[0m\n",
      "\u001b[0;32m<__array_function__ internals>\u001b[0m in \u001b[0;36mbincount\u001b[0;34m(*args, **kwargs)\u001b[0m\n",
      "\u001b[0;31mValueError\u001b[0m: object too deep for desired array"
     ]
    }
   ],
   "source": [
    "counts = np.bincount(band1)\n",
    "#返回众数\n",
    "np.argmax(counts)"
   ]
  }
 ],
 "metadata": {
  "kernelspec": {
   "display_name": "Python 3",
   "language": "python",
   "name": "python3"
  },
  "language_info": {
   "codemirror_mode": {
    "name": "ipython",
    "version": 3
   },
   "file_extension": ".py",
   "mimetype": "text/x-python",
   "name": "python",
   "nbconvert_exporter": "python",
   "pygments_lexer": "ipython3",
   "version": "3.8.3"
  }
 },
 "nbformat": 4,
 "nbformat_minor": 4
}
