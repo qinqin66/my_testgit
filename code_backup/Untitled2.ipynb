{
 "cells": [
  {
   "cell_type": "code",
   "execution_count": 1,
   "metadata": {},
   "outputs": [],
   "source": [
    "# Download TRMM data from ftp://disc2.nascom.nasa.gov/data/s4pa/TRMM_L3 12/12/2016\n",
    "# \n",
    "import ftplib\n",
    "from calendar import monthrange\n",
    "import os"
   ]
  },
  {
   "cell_type": "code",
   "execution_count": 11,
   "metadata": {},
   "outputs": [
    {
     "name": "stdout",
     "output_type": "stream",
     "text": [
      "FTP connection failed\n"
     ]
    }
   ],
   "source": [
    "\n",
    "\n",
    "#ftp://disc2.nascom.nasa.gov/data/s4pa/TRMM_L3/TRMM_3B42_Daily.7/2000/01/3B42_Daily.20000102.7.nc4\n",
    "ftp_host = 'disc2.nascom.nasa.gov'\n",
    "data_txt = '3B42_Daily.'\n",
    "dest_path = '/Users/yanli/Data/TRMM/Daily/'\n",
    "\n",
    "try:\n",
    "    ftp = ftplib.FTP(ftp_host)\n",
    "    ftp.login()\n",
    "    ftp.cwd('/data/s4pa/TRMM_L3/TRMM_3B42_Daily.7/')\n",
    "except:\n",
    "    print (\"FTP connection failed\")"
   ]
  },
  {
   "cell_type": "code",
   "execution_count": null,
   "metadata": {},
   "outputs": [],
   "source": [
    "\n",
    "for year in range(2010, 2011):\n",
    "    if not os.path.exists(dest_path + str(year)):\n",
    "       os.makedirs(dest_path + str(year))\n",
    "\n",
    "    for mon in range(1, 13):\n",
    "        for day in range(1, monthrange(year, mon)[1] + 1):\n",
    "            filename = (str(year) + '/' + '%02d' % (mon) + '/'+ data_txt +\n",
    "                        '%d%02d%02d' %(year, mon, day) + '.7.nc4')\n",
    "            dest_filename = (str(year) + '/' + data_txt + '%d%02d%02d' %(year,\n",
    "                             mon, day) + '.7.nc4')\n",
    "            print('Donwloading ' + filename)\n",
    "            ftp.retrbinary('RETR '+ filename, open(dest_path + dest_filename, 'wb').write)\n",
    "ftp.quit()\n"
   ]
  },
  {
   "cell_type": "code",
   "execution_count": null,
   "metadata": {},
   "outputs": [],
   "source": []
  },
  {
   "cell_type": "code",
   "execution_count": null,
   "metadata": {},
   "outputs": [],
   "source": []
  }
 ],
 "metadata": {
  "kernelspec": {
   "display_name": "gis3",
   "language": "python",
   "name": "gis3"
  },
  "language_info": {
   "codemirror_mode": {
    "name": "ipython",
    "version": 3
   },
   "file_extension": ".py",
   "mimetype": "text/x-python",
   "name": "python",
   "nbconvert_exporter": "python",
   "pygments_lexer": "ipython3",
   "version": "3.8.3"
  }
 },
 "nbformat": 4,
 "nbformat_minor": 4
}
