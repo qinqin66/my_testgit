{
 "cells": [
  {
   "cell_type": "code",
   "execution_count": 1,
   "metadata": {},
   "outputs": [],
   "source": [
    "import netCDF4\n",
    "import numpy as np\n",
    "from osgeo import gdal,osr,ogr\n",
    "import matplotlib.pyplot as plt"
   ]
  },
  {
   "cell_type": "code",
   "execution_count": 2,
   "metadata": {},
   "outputs": [],
   "source": [
    "# function to create the mask of your shapefile\n",
    "# function to create the mask of your shapefile\n",
    "def makeMask(lon,lat,res):\n",
    "    source_ds = ogr.Open(shapefile)\n",
    "    source_layer = source_ds.GetLayer()\n",
    " \n",
    "    # Create high res raster in memory\n",
    "    mem_ds = gdal.GetDriverByName('MEM').Create('', lon.size, lat.size, gdal.GDT_Byte)\n",
    "    mem_ds.SetGeoTransform((lon.min(), res, 0, lat.max(), 0, -res))\n",
    "    band = mem_ds.GetRasterBand(1)\n",
    " \n",
    "    # Rasterize shapefile to grid\n",
    "    gdal.RasterizeLayer(mem_ds, [1], source_layer, burn_values=[1])\n",
    " \n",
    "    # Get rasterized shapefile as numpy array\n",
    "    array = band.ReadAsArray()\n",
    " \n",
    "    # Flush memory file\n",
    "    mem_ds = None\n",
    "    band = None\n",
    "    return array"
   ]
  },
  {
   "cell_type": "code",
   "execution_count": 8,
   "metadata": {},
   "outputs": [],
   "source": [
    "# set the data directories\n",
    "datadir = \"/mnt/e/wrf_tibet/test/tibet/\"\n",
    "shapefile = \"/mnt/e/wrf_tibet/test/tibet/VNM_adm0.shp\"\n",
    "infile = \"ds_tmys_mmsVN_1976-2005_pr_historical_GFDL-ESM2M.nc\"\n",
    "ncs = datadir + infile\n",
    " \n",
    "# read the netcdf data file\n",
    "nc = netCDF4.Dataset(ncs,'r')\n",
    " \n",
    "# get the precipitation\n",
    "pr = nc.variables['pr'][:]"
   ]
  },
  {
   "cell_type": "code",
   "execution_count": 9,
   "metadata": {},
   "outputs": [
    {
     "data": {
      "image/png": "[encoded data removed]",
      "text/plain": [
       "<Figure size 432x288 with 1 Axes>"
      ]
     },
     "metadata": {
      "needs_background": "light"
     },
     "output_type": "display_data"
    },
    {
     "data": {
      "image/png": "[encoded data removed]",
      "text/plain": [
       "<Figure size 432x288 with 1 Axes>"
      ]
     },
     "metadata": {
      "needs_background": "light"
     },
     "output_type": "display_data"
    }
   ],
   "source": [
    "\n",
    "# show the precipitation\n",
    "plt.imshow(pr)\n",
    "plt.show()\n",
    "# get the longitude information\n",
    "lons = nc.variables['lon'][:]\n",
    "# get the latitude information\n",
    "lats = nc.variables['lat'][:]\n",
    "# calculate the cellsize\n",
    "cellsize = lons[:][1] - lons[:][0]\n",
    " \n",
    "# create the mask\n",
    "mask = makeMask(lons,lats,cellsize)\n",
    " \n",
    "# show the mask\n",
    "plt.imshow(mask)\n",
    "plt.show()\n",
    " \n"
   ]
  },
  {
   "cell_type": "code",
   "execution_count": 10,
   "metadata": {},
   "outputs": [
    {
     "data": {
      "image/png": "[encoded data removed]",
      "text/plain": [
       "<Figure size 432x288 with 1 Axes>"
      ]
     },
     "metadata": {
      "needs_background": "light"
     },
     "output_type": "display_data"
    }
   ],
   "source": [
    "# mask the precipitation data\n",
    "precip = np.ma.masked_where(mask==0,pr)\n",
    " \n",
    "plt.imshow(precip)\n",
    "plt.show()\n",
    " \n",
    "# print some stats\n",
    "#print np.min(precip), np.mean(precip), np.max(precip)"
   ]
  },
  {
   "cell_type": "code",
   "execution_count": null,
   "metadata": {},
   "outputs": [],
   "source": []
  }
 ],
 "metadata": {
  "kernelspec": {
   "display_name": "gis3",
   "language": "python",
   "name": "gis3"
  },
  "language_info": {
   "codemirror_mode": {
    "name": "ipython",
    "version": 3
   },
   "file_extension": ".py",
   "mimetype": "text/x-python",
   "name": "python",
   "nbconvert_exporter": "python",
   "pygments_lexer": "ipython3",
   "version": "3.8.3"
  }
 },
 "nbformat": 4,
 "nbformat_minor": 4
}
