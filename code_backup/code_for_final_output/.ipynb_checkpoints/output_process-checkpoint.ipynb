{
 "cells": [
  {
   "cell_type": "code",
   "execution_count": 4,
   "metadata": {},
   "outputs": [],
   "source": [
    "# run in computer environment gis3\n",
    "import xarray as xr\n",
    "import numpy as np\n",
    "from xarray.backends import NetCDF4DataStore\n",
    "import salem\n",
    "from datetime import datetime\n",
    "from siphon.catalog import TDSCatalog\n",
    "import cartopy.crs as ccrs\n",
    "import cartopy.feature as cfeat\n",
    "from cartopy.mpl.ticker import LongitudeFormatter,LatitudeFormatter\n",
    "from cartopy.io.shapereader import Reader, natural_earth\n",
    "import matplotlib.pyplot as plt\n",
    "import matplotlib.ticker as mticker\n",
    "import geopandas\n",
    "import os"
   ]
  },
  {
   "cell_type": "code",
   "execution_count": 86,
   "metadata": {},
   "outputs": [],
   "source": [
    "path_control = '/mnt/e/wrf_tibet/output/control/'\n",
    "path_rm_grass = '/mnt/e/wrf_tibet/output/rm_grass/'\n",
    "path_rm_forest = '/mnt/e/wrf_tibet/output/rm_forest/'\n",
    "filevar_control,filevar_rm_grass,filevar_rm_forest = [],[],[]\n",
    "for i in range (1,32):\n",
    "    varr = 'control'+str(i)\n",
    "    varr2 ='rm_grass'+str(i)\n",
    "    varr3 ='rm_forest'+str(i)\n",
    "    filevar_control.append(varr)\n",
    "    filevar_rm_grass.append(varr2)\n",
    "    filevar_rm_forest.append(varr3)"
   ]
  },
  {
   "cell_type": "code",
   "execution_count": 88,
   "metadata": {},
   "outputs": [],
   "source": [
    "files= os.listdir(path_control) #control\n",
    "for i in range(0,31):\n",
    "    filevar_control[i] = xr.open_dataset(path_control+files[i])\n",
    "\n",
    "files= os.listdir(path_rm_grass) #rm_grass\n",
    "for i in range(0,31):\n",
    "    filevar_rm_grass[i] = xr.open_dataset(path_rm_grass+files[i])\n",
    "\n",
    "files= os.listdir(path_rm_forest) #rm_forest\n",
    "for i in range(0,31):\n",
    "    filevar_rm_forest[i] = xr.open_dataset(path_rm_forest+files[i])"
   ]
  },
  {
   "cell_type": "code",
   "execution_count": null,
   "metadata": {},
   "outputs": [],
   "source": []
  }
 ],
 "metadata": {
  "kernelspec": {
   "display_name": "gis3",
   "language": "python",
   "name": "gis3"
  },
  "language_info": {
   "codemirror_mode": {
    "name": "ipython",
    "version": 3
   },
   "file_extension": ".py",
   "mimetype": "text/x-python",
   "name": "python",
   "nbconvert_exporter": "python",
   "pygments_lexer": "ipython3",
   "version": "3.8.3"
  }
 },
 "nbformat": 4,
 "nbformat_minor": 4
}
